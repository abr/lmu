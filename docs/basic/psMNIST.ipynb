{
 "cells": [
  {
   "cell_type": "code",
   "execution_count": 1,
   "metadata": {},
   "outputs": [],
   "source": [
    "%matplotlib inline\n",
    "\n",
    "import time\n",
    "\n",
    "import numpy as np\n",
    "import matplotlib.pyplot as plt\n",
    "import tensorflow as tf\n",
    "\n",
    "from lmu import LMU, LMUCell\n",
    "\n",
    "from tensorflow.keras.callbacks import ModelCheckpoint\n",
    "from tensorflow.keras.layers import Dense\n",
    "from tensorflow.keras.layers import RNN\n",
    "from tensorflow.keras.models import Sequential\n",
    "from tensorflow.keras.initializers import Constant\n",
    "from tensorflow.keras.utils import to_categorical"
   ]
  },
  {
   "cell_type": "code",
   "execution_count": 2,
   "metadata": {},
   "outputs": [
    {
     "name": "stdout",
     "output_type": "stream",
     "text": [
      "(50000, 784, 1) (50000,)\n",
      "(10000, 784, 1) (10000,)\n",
      "(10000, 784, 1) (10000,)\n"
     ]
    }
   ],
   "source": [
    "# Set seed to ensure this example is reproducible\n",
    "seed = 0\n",
    "tf.random.set_seed(seed)\n",
    "np.random.seed(seed)\n",
    "rng = np.random.RandomState(seed)\n",
    "\n",
    "# load mnist dataset\n",
    "(\n",
    "    (train_images, train_labels),\n",
    "    (test_images, test_labels),\n",
    ") = tf.keras.datasets.mnist.load_data()\n",
    "\n",
    "# Change inputs to 0--1 range\n",
    "train_images = train_images / 255\n",
    "test_images = test_images / 255\n",
    "\n",
    "# Flatten images into sequences\n",
    "train_images = train_images.reshape((train_images.shape[0], -1, 1))\n",
    "test_images = test_images.reshape((test_images.shape[0], -1, 1))\n",
    "\n",
    "# Apply permutation\n",
    "perm = rng.permutation(train_images.shape[1])\n",
    "train_images = train_images[:, perm]\n",
    "test_images = test_images[:, perm]\n",
    "\n",
    "X_train = train_images[0:50000]\n",
    "X_valid = train_images[50000:]\n",
    "X_test = test_images\n",
    "\n",
    "Y_train = train_labels[0:50000]\n",
    "Y_valid = train_labels[50000:]\n",
    "Y_test = test_labels\n",
    "\n",
    "print(X_train.shape, Y_train.shape)\n",
    "print(X_valid.shape, Y_valid.shape)\n",
    "print(X_test.shape, Y_test.shape)"
   ]
  },
  {
   "cell_type": "code",
   "execution_count": 3,
   "metadata": {},
   "outputs": [
    {
     "data": {
      "image/png": "[encoded data removed]",
      "text/plain": [
       "<Figure size 432x288 with 2 Axes>"
      ]
     },
     "metadata": {
      "needs_background": "light"
     },
     "output_type": "display_data"
    }
   ],
   "source": [
    "plt.subplot(111)\n",
    "plt.title(\"Digit = %d\" % Y_train[1])\n",
    "plt.imshow(X_train[1].reshape(28, 28))\n",
    "plt.colorbar()\n",
    "plt.show()"
   ]
  },
  {
   "cell_type": "code",
   "execution_count": 7,
   "metadata": {},
   "outputs": [
    {
     "name": "stdout",
     "output_type": "stream",
     "text": [
      "RNN layer\n",
      "Model: \"sequential_2\"\n",
      "_________________________________________________________________\n",
      "Layer (type)                 Output Shape              Param #   \n",
      "=================================================================\n",
      "lmu_1 (LMU)                  (None, 212)               165689    \n",
      "_________________________________________________________________\n",
      "dense_1 (Dense)              (None, 10)                2130      \n",
      "=================================================================\n",
      "Total params: 167,819\n",
      "Trainable params: 102,027\n",
      "Non-trainable params: 65,792\n",
      "_________________________________________________________________\n"
     ]
    }
   ],
   "source": [
    "padded_length = 28 ** 2 + 1\n",
    "n_pixels = padded_length - 1\n",
    "\n",
    "\n",
    "def lmu_layer(**kwargs):\n",
    "    return LMU(\n",
    "            units=212,\n",
    "            order=256,\n",
    "            theta=n_pixels,\n",
    "            input_encoders_initializer=Constant(1),\n",
    "            hidden_encoders_initializer=Constant(0),\n",
    "            memory_encoders_initializer=Constant(0),\n",
    "            input_kernel_initializer=Constant(0),\n",
    "            hidden_kernel_initializer=Constant(0),\n",
    "            memory_kernel_initializer=\"glorot_normal\",\n",
    "            **kwargs\n",
    "    )\n",
    "\n",
    "\n",
    "model = Sequential()\n",
    "model.add(lmu_layer(input_shape=X_train.shape[1:],))  # (nr. of pixels, 1)\n",
    "model.add(Dense(10, activation=\"softmax\"))\n",
    "\n",
    "model.compile(loss=\"categorical_crossentropy\", optimizer=\"adam\", metrics=[\"accuracy\"])\n",
    "model.summary()"
   ]
  },
  {
   "cell_type": "code",
   "execution_count": 8,
   "metadata": {
    "scrolled": true
   },
   "outputs": [
    {
     "name": "stdout",
     "output_type": "stream",
     "text": [
      "Train on 50000 samples, validate on 10000 samples\n",
      "Epoch 1/10\n",
      "49900/50000 [============================>.] - ETA: 0s - loss: 0.4553 - accuracy: 0.8650\n",
      "Epoch 00001: val_loss improved from inf to 0.28646, saving model to ./psMNIST-standard.hdf5\n",
      "50000/50000 [==============================] - 275s 5ms/sample - loss: 0.4550 - accuracy: 0.8651 - val_loss: 0.2865 - val_accuracy: 0.9144\n",
      "Epoch 2/10\n",
      "49900/50000 [============================>.] - ETA: 0s - loss: 0.2620 - accuracy: 0.9215\n",
      "Epoch 00002: val_loss improved from 0.28646 to 0.19327, saving model to ./psMNIST-standard.hdf5\n",
      "50000/50000 [==============================] - 274s 5ms/sample - loss: 0.2622 - accuracy: 0.9215 - val_loss: 0.1933 - val_accuracy: 0.9442\n",
      "Epoch 3/10\n",
      "49900/50000 [============================>.] - ETA: 0s - loss: 0.1806 - accuracy: 0.9450\n",
      "Epoch 00003: val_loss improved from 0.19327 to 0.14903, saving model to ./psMNIST-standard.hdf5\n",
      "50000/50000 [==============================] - 270s 5ms/sample - loss: 0.1807 - accuracy: 0.9449 - val_loss: 0.1490 - val_accuracy: 0.9551\n",
      "Epoch 4/10\n",
      "49900/50000 [============================>.] - ETA: 0s - loss: 0.1359 - accuracy: 0.9583\n",
      "Epoch 00004: val_loss improved from 0.14903 to 0.13505, saving model to ./psMNIST-standard.hdf5\n",
      "50000/50000 [==============================] - 270s 5ms/sample - loss: 0.1358 - accuracy: 0.9583 - val_loss: 0.1351 - val_accuracy: 0.9600\n",
      "Epoch 5/10\n",
      "49900/50000 [============================>.] - ETA: 0s - loss: 0.5303 - accuracy: 0.8434\n",
      "Epoch 00005: val_loss did not improve from 0.13505\n",
      "50000/50000 [==============================] - 272s 5ms/sample - loss: 0.5301 - accuracy: 0.8435 - val_loss: 0.3373 - val_accuracy: 0.9000\n",
      "Epoch 6/10\n",
      "49900/50000 [============================>.] - ETA: 0s - loss: 0.2370 - accuracy: 0.9286\n",
      "Epoch 00006: val_loss did not improve from 0.13505\n",
      "50000/50000 [==============================] - 271s 5ms/sample - loss: 0.2368 - accuracy: 0.9286 - val_loss: 0.1952 - val_accuracy: 0.9424\n",
      "Epoch 7/10\n",
      "49900/50000 [============================>.] - ETA: 0s - loss: 0.1804 - accuracy: 0.9460\n",
      "Epoch 00007: val_loss did not improve from 0.13505\n",
      "50000/50000 [==============================] - 270s 5ms/sample - loss: 0.1802 - accuracy: 0.9461 - val_loss: 0.1690 - val_accuracy: 0.9513\n",
      "Epoch 8/10\n",
      "49900/50000 [============================>.] - ETA: 0s - loss: 0.1529 - accuracy: 0.9533\n",
      "Epoch 00008: val_loss did not improve from 0.13505\n",
      "50000/50000 [==============================] - 270s 5ms/sample - loss: 0.1528 - accuracy: 0.9533 - val_loss: 0.1569 - val_accuracy: 0.9548\n",
      "Epoch 9/10\n",
      "49900/50000 [============================>.] - ETA: 0s - loss: 0.1320 - accuracy: 0.9595\n",
      "Epoch 00009: val_loss did not improve from 0.13505\n",
      "50000/50000 [==============================] - 273s 5ms/sample - loss: 0.1319 - accuracy: 0.9594 - val_loss: 0.1385 - val_accuracy: 0.9596\n",
      "Epoch 10/10\n",
      "49900/50000 [============================>.] - ETA: 0s - loss: 0.1172 - accuracy: 0.9637\n",
      "Epoch 00010: val_loss improved from 0.13505 to 0.13456, saving model to ./psMNIST-standard.hdf5\n",
      "50000/50000 [==============================] - 271s 5ms/sample - loss: 0.1172 - accuracy: 0.9637 - val_loss: 0.1346 - val_accuracy: 0.9612\n",
      "Took 45.27 min\n"
     ]
    }
   ],
   "source": [
    "batch_size = 100\n",
    "epochs = 10\n",
    "t = time.time()\n",
    "\n",
    "fname = \"./psMNIST-standard.hdf5\"\n",
    "callbacks = [\n",
    "    ModelCheckpoint(filepath=fname, monitor=\"val_loss\", verbose=1, save_best_only=True),\n",
    "]\n",
    "\n",
    "result = model.fit(\n",
    "    X_train,\n",
    "    to_categorical(Y_train),\n",
    "    epochs=epochs,\n",
    "    batch_size=batch_size,\n",
    "    validation_data=(X_valid, to_categorical(Y_valid)),\n",
    "    callbacks=callbacks,\n",
    ")\n",
    "\n",
    "print(\"Took {:.2f} min\".format((time.time() - t) / 60))"
   ]
  },
  {
   "cell_type": "code",
   "execution_count": 9,
   "metadata": {},
   "outputs": [
    {
     "data": {
      "image/png": "[encoded data removed]",
      "text/plain": [
       "<Figure size 432x288 with 1 Axes>"
      ]
     },
     "metadata": {
      "needs_background": "light"
     },
     "output_type": "display_data"
    }
   ],
   "source": [
    "plt.figure()\n",
    "plt.plot(result.history[\"val_accuracy\"], label=\"Validation\")\n",
    "plt.plot(result.history[\"accuracy\"], label=\"Training\")\n",
    "plt.legend()\n",
    "plt.xlabel(\"Epoch\")\n",
    "plt.ylabel(\"Accuracy\")\n",
    "plt.title(\"psMNIST - LMU\")\n",
    "plt.show()"
   ]
  },
  {
   "cell_type": "code",
   "execution_count": 10,
   "metadata": {},
   "outputs": [
    {
     "name": "stdout",
     "output_type": "stream",
     "text": [
      "0.9612\n"
     ]
    }
   ],
   "source": [
    "saved_epoch = np.argmin(result.history[\"val_loss\"])\n",
    "print(result.history[\"val_accuracy\"][saved_epoch])"
   ]
  },
  {
   "cell_type": "code",
   "execution_count": 11,
   "metadata": {},
   "outputs": [],
   "source": [
    "model.load_weights(fname)  # load best weights"
   ]
  },
  {
   "cell_type": "code",
   "execution_count": 12,
   "metadata": {},
   "outputs": [
    {
     "name": "stdout",
     "output_type": "stream",
     "text": [
      "10000/10000 [==============================] - 43s 4ms/sample - loss: 0.1352 - accuracy: 0.9587\n"
     ]
    },
    {
     "data": {
      "text/plain": [
       "[0.13518213040307164, 0.9587]"
      ]
     },
     "execution_count": 12,
     "metadata": {},
     "output_type": "execute_result"
    }
   ],
   "source": [
    "model.evaluate(X_test, to_categorical(Y_test))"
   ]
  },
  {
   "cell_type": "code",
   "execution_count": null,
   "metadata": {},
   "outputs": [],
   "source": []
  }
 ],
 "metadata": {
  "kernelspec": {
   "display_name": "Python 3",
   "language": "python",
   "name": "python3"
  },
  "language_info": {
   "codemirror_mode": {
    "name": "ipython",
    "version": 3
   },
   "file_extension": ".py",
   "mimetype": "text/x-python",
   "name": "python",
   "nbconvert_exporter": "python",
   "pygments_lexer": "ipython3",
   "version": "3.7.6"
  }
 },
 "nbformat": 4,
 "nbformat_minor": 2
}
