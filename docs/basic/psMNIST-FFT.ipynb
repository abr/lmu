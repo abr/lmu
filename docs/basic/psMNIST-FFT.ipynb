{
 "cells": [
  {
   "cell_type": "code",
   "execution_count": 1,
   "metadata": {},
   "outputs": [],
   "source": [
    "%matplotlib inline\n",
    "\n",
    "import time\n",
    "\n",
    "import numpy as np\n",
    "import matplotlib.pyplot as plt\n",
    "import tensorflow as tf\n",
    "\n",
    "from lmu import LMU\n",
    "\n",
    "from tensorflow.keras.callbacks import ModelCheckpoint\n",
    "from tensorflow.keras.layers import Dense\n",
    "from tensorflow.keras.layers import RNN\n",
    "from tensorflow.keras.models import Sequential\n",
    "from tensorflow.keras.initializers import Constant\n",
    "from tensorflow.keras.utils import to_categorical"
   ]
  },
  {
   "cell_type": "code",
   "execution_count": 2,
   "metadata": {},
   "outputs": [
    {
     "name": "stdout",
     "output_type": "stream",
     "text": [
      "(50000, 784, 1) (50000,)\n",
      "(10000, 784, 1) (10000,)\n",
      "(10000, 784, 1) (10000,)\n"
     ]
    }
   ],
   "source": [
    "# Set seed to ensure this example is reproducible\n",
    "seed = 0\n",
    "tf.random.set_seed(seed)\n",
    "np.random.seed(seed)\n",
    "rng = np.random.RandomState(seed)\n",
    "\n",
    "# load mnist dataset\n",
    "(\n",
    "    (train_images, train_labels),\n",
    "    (test_images, test_labels),\n",
    ") = tf.keras.datasets.mnist.load_data()\n",
    "\n",
    "# Change inputs to 0--1 range\n",
    "train_images = train_images / 255\n",
    "test_images = test_images / 255\n",
    "\n",
    "# Flatten images into sequences\n",
    "train_images = train_images.reshape((train_images.shape[0], -1, 1))\n",
    "test_images = test_images.reshape((test_images.shape[0], -1, 1))\n",
    "\n",
    "# Apply permutation\n",
    "perm = rng.permutation(train_images.shape[1])\n",
    "train_images = train_images[:, perm]\n",
    "test_images = test_images[:, perm]\n",
    "\n",
    "X_train = train_images[0:50000]\n",
    "X_valid = train_images[50000:]\n",
    "X_test = test_images\n",
    "\n",
    "Y_train = train_labels[0:50000]\n",
    "Y_valid = train_labels[50000:]\n",
    "Y_test = test_labels\n",
    "\n",
    "print(X_train.shape, Y_train.shape)\n",
    "print(X_valid.shape, Y_valid.shape)\n",
    "print(X_test.shape, Y_test.shape)"
   ]
  },
  {
   "cell_type": "code",
   "execution_count": 3,
   "metadata": {},
   "outputs": [
    {
     "data": {
      "image/png": "[encoded data removed]",
      "text/plain": [
       "<Figure size 432x288 with 2 Axes>"
      ]
     },
     "metadata": {
      "needs_background": "light"
     },
     "output_type": "display_data"
    }
   ],
   "source": [
    "plt.subplot(111)\n",
    "plt.title(\"Digit = %d\" % Y_train[1])\n",
    "plt.imshow(X_train[1].reshape(28, 28))\n",
    "plt.colorbar()\n",
    "plt.show()"
   ]
  },
  {
   "cell_type": "code",
   "execution_count": 4,
   "metadata": {},
   "outputs": [
    {
     "name": "stdout",
     "output_type": "stream",
     "text": [
      "FFT layer\n",
      "WARNING:tensorflow:Layer rnn is casting an input tensor from dtype float64 to the layer's dtype of float32, which is new behavior in TensorFlow 2.  The layer has dtype float32 because it's dtype defaults to floatx.\n",
      "\n",
      "If you intended to run this layer in float32, you can safely ignore this warning. If in doubt, this warning is likely only an issue if you are porting a TensorFlow 1.X model to TensorFlow 2.\n",
      "\n",
      "To change all layers to have dtype float64 by default, call `tf.keras.backend.set_floatx('float64')`. To change just this layer, pass dtype='float64' to the layer constructor. If you are the author of this layer, you can disable autocasting by passing autocast=False to the base Layer constructor.\n",
      "\n",
      "Model: \"sequential\"\n",
      "_________________________________________________________________\n",
      "Layer (type)                 Output Shape              Param #   \n",
      "=================================================================\n",
      "lmu (LMU)                    (None, 212)               54485     \n",
      "_________________________________________________________________\n",
      "dense (Dense)                (None, 10)                2130      \n",
      "=================================================================\n",
      "Total params: 56,615\n",
      "Trainable params: 56,615\n",
      "Non-trainable params: 0\n",
      "_________________________________________________________________\n"
     ]
    }
   ],
   "source": [
    "padded_length = 28 ** 2 + 1\n",
    "n_pixels = padded_length - 1\n",
    "\n",
    "\n",
    "def lmu_layer(**kwargs):\n",
    "    return LMU(\n",
    "        units=212,\n",
    "        order=256,\n",
    "        theta=n_pixels,\n",
    "        memory_to_memory=False,\n",
    "        hidden_to_memory=False,\n",
    "        hidden_to_hidden=False,\n",
    "        input_encoders_initializer=Constant(1),\n",
    "        hidden_encoders_initializer=Constant(0),\n",
    "        memory_encoders_initializer=Constant(0),\n",
    "        input_kernel_initializer=Constant(0),\n",
    "        hidden_kernel_initializer=Constant(0),\n",
    "        memory_kernel_initializer=\"glorot_normal\",\n",
    "        return_sequences=False,\n",
    "        **kwargs\n",
    "    )\n",
    "\n",
    "\n",
    "model = Sequential()\n",
    "model.add(lmu_layer(input_shape=X_train.shape[1:],))  # (nr. of pixels, 1)\n",
    "model.add(Dense(10, activation=\"softmax\"))\n",
    "\n",
    "model.compile(loss=\"categorical_crossentropy\", optimizer=\"adam\", metrics=[\"accuracy\"])\n",
    "model.summary()"
   ]
  },
  {
   "cell_type": "code",
   "execution_count": 5,
   "metadata": {
    "scrolled": true
   },
   "outputs": [
    {
     "name": "stdout",
     "output_type": "stream",
     "text": [
      "Train on 50000 samples, validate on 10000 samples\n",
      "Epoch 1/10\n",
      "49900/50000 [============================>.] - ETA: 0s - loss: 0.5342 - accuracy: 0.8529\n",
      "Epoch 00001: val_loss improved from inf to 0.31574, saving model to ./psMNIST-fft.hdf5\n",
      "50000/50000 [==============================] - 36s 712us/sample - loss: 0.5338 - accuracy: 0.8530 - val_loss: 0.3157 - val_accuracy: 0.9116\n",
      "Epoch 2/10\n",
      "49900/50000 [============================>.] - ETA: 0s - loss: 0.3339 - accuracy: 0.9045\n",
      "Epoch 00002: val_loss improved from 0.31574 to 0.28711, saving model to ./psMNIST-fft.hdf5\n",
      "50000/50000 [==============================] - 36s 715us/sample - loss: 0.3342 - accuracy: 0.9045 - val_loss: 0.2871 - val_accuracy: 0.9193\n",
      "Epoch 3/10\n",
      "49900/50000 [============================>.] - ETA: 0s - loss: 0.2886 - accuracy: 0.9157\n",
      "Epoch 00003: val_loss improved from 0.28711 to 0.24447, saving model to ./psMNIST-fft.hdf5\n",
      "50000/50000 [==============================] - 35s 708us/sample - loss: 0.2889 - accuracy: 0.9156 - val_loss: 0.2445 - val_accuracy: 0.9324\n",
      "Epoch 4/10\n",
      "49900/50000 [============================>.] - ETA: 0s - loss: 0.2336 - accuracy: 0.9327\n",
      "Epoch 00004: val_loss improved from 0.24447 to 0.19477, saving model to ./psMNIST-fft.hdf5\n",
      "50000/50000 [==============================] - 36s 714us/sample - loss: 0.2336 - accuracy: 0.9327 - val_loss: 0.1948 - val_accuracy: 0.9479\n",
      "Epoch 5/10\n",
      "49900/50000 [============================>.] - ETA: 0s - loss: 0.1835 - accuracy: 0.9462\n",
      "Epoch 00005: val_loss improved from 0.19477 to 0.15872, saving model to ./psMNIST-fft.hdf5\n",
      "50000/50000 [==============================] - 36s 729us/sample - loss: 0.1834 - accuracy: 0.9462 - val_loss: 0.1587 - val_accuracy: 0.9574\n",
      "Epoch 6/10\n",
      "49900/50000 [============================>.] - ETA: 0s - loss: 0.1462 - accuracy: 0.9557\n",
      "Epoch 00006: val_loss improved from 0.15872 to 0.13663, saving model to ./psMNIST-fft.hdf5\n",
      "50000/50000 [==============================] - 36s 716us/sample - loss: 0.1462 - accuracy: 0.9556 - val_loss: 0.1366 - val_accuracy: 0.9606\n",
      "Epoch 7/10\n",
      "49900/50000 [============================>.] - ETA: 0s - loss: 0.1186 - accuracy: 0.9655\n",
      "Epoch 00007: val_loss improved from 0.13663 to 0.11710, saving model to ./psMNIST-fft.hdf5\n",
      "50000/50000 [==============================] - 36s 717us/sample - loss: 0.1185 - accuracy: 0.9655 - val_loss: 0.1171 - val_accuracy: 0.9665\n",
      "Epoch 8/10\n",
      "49900/50000 [============================>.] - ETA: 0s - loss: 0.0966 - accuracy: 0.9719\n",
      "Epoch 00008: val_loss improved from 0.11710 to 0.10461, saving model to ./psMNIST-fft.hdf5\n",
      "50000/50000 [==============================] - 35s 710us/sample - loss: 0.0965 - accuracy: 0.9719 - val_loss: 0.1046 - val_accuracy: 0.9692\n",
      "Epoch 9/10\n",
      "49900/50000 [============================>.] - ETA: 0s - loss: 0.0801 - accuracy: 0.9771\n",
      "Epoch 00009: val_loss improved from 0.10461 to 0.09779, saving model to ./psMNIST-fft.hdf5\n",
      "50000/50000 [==============================] - 35s 706us/sample - loss: 0.0800 - accuracy: 0.9771 - val_loss: 0.0978 - val_accuracy: 0.9706\n",
      "Epoch 10/10\n",
      "49900/50000 [============================>.] - ETA: 0s - loss: 0.0655 - accuracy: 0.9816\n",
      "Epoch 00010: val_loss improved from 0.09779 to 0.09101, saving model to ./psMNIST-fft.hdf5\n",
      "50000/50000 [==============================] - 35s 708us/sample - loss: 0.0654 - accuracy: 0.9816 - val_loss: 0.0910 - val_accuracy: 0.9722\n",
      "Took 5.95 min\n"
     ]
    }
   ],
   "source": [
    "batch_size = 100\n",
    "epochs = 10\n",
    "t = time.time()\n",
    "\n",
    "fname = \"./psMNIST-fft.hdf5\"\n",
    "callbacks = [\n",
    "    ModelCheckpoint(filepath=fname, monitor=\"val_loss\", verbose=1, save_best_only=True),\n",
    "]\n",
    "\n",
    "result = model.fit(\n",
    "    X_train,\n",
    "    to_categorical(Y_train),\n",
    "    epochs=epochs,\n",
    "    batch_size=batch_size,\n",
    "    validation_data=(X_valid, to_categorical(Y_valid)),\n",
    "    callbacks=callbacks,\n",
    ")\n",
    "\n",
    "print(\"Took {:.2f} min\".format((time.time() - t) / 60))"
   ]
  },
  {
   "cell_type": "code",
   "execution_count": 6,
   "metadata": {},
   "outputs": [
    {
     "data": {
      "image/png": "[encoded data removed]",
      "text/plain": [
       "<Figure size 432x288 with 1 Axes>"
      ]
     },
     "metadata": {
      "needs_background": "light"
     },
     "output_type": "display_data"
    }
   ],
   "source": [
    "plt.figure()\n",
    "plt.plot(result.history[\"val_accuracy\"], label=\"Validation\")\n",
    "plt.plot(result.history[\"accuracy\"], label=\"Training\")\n",
    "plt.legend()\n",
    "plt.xlabel(\"Epoch\")\n",
    "plt.ylabel(\"Accuracy\")\n",
    "plt.title(\"psMNIST - LMU\")\n",
    "plt.show()"
   ]
  },
  {
   "cell_type": "code",
   "execution_count": 7,
   "metadata": {},
   "outputs": [
    {
     "name": "stdout",
     "output_type": "stream",
     "text": [
      "0.9722\n"
     ]
    }
   ],
   "source": [
    "saved_epoch = np.argmin(result.history[\"val_loss\"])\n",
    "print(result.history[\"val_accuracy\"][saved_epoch])"
   ]
  },
  {
   "cell_type": "code",
   "execution_count": 8,
   "metadata": {},
   "outputs": [],
   "source": [
    "model.load_weights(fname)  # load best weights"
   ]
  },
  {
   "cell_type": "code",
   "execution_count": 9,
   "metadata": {},
   "outputs": [
    {
     "name": "stdout",
     "output_type": "stream",
     "text": [
      "10000/10000 [==============================] - 4s 407us/sample - loss: 0.0944 - accuracy: 0.9701\n"
     ]
    },
    {
     "data": {
      "text/plain": [
       "[0.09441915852930396, 0.9701]"
      ]
     },
     "execution_count": 9,
     "metadata": {},
     "output_type": "execute_result"
    }
   ],
   "source": [
    "model.evaluate(X_test, to_categorical(Y_test))"
   ]
  },
  {
   "cell_type": "code",
   "execution_count": null,
   "metadata": {},
   "outputs": [],
   "source": []
  }
 ],
 "metadata": {
  "kernelspec": {
   "display_name": "Python 3",
   "language": "python",
   "name": "python3"
  },
  "language_info": {
   "codemirror_mode": {
    "name": "ipython",
    "version": 3
   },
   "file_extension": ".py",
   "mimetype": "text/x-python",
   "name": "python",
   "nbconvert_exporter": "python",
   "pygments_lexer": "ipython3",
   "version": "3.7.6"
  }
 },
 "nbformat": 4,
 "nbformat_minor": 2
}
